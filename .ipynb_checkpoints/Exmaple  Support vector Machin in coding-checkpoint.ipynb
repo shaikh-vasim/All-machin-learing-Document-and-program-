{
 "cells": [
  {
   "cell_type": "code",
   "execution_count": 52,
   "metadata": {},
   "outputs": [],
   "source": [
    "import numpy as np\n",
    "import matplotlib.pyplot as plt\n",
    "import pandas as pd\n",
    "from sklearn.model_selection import train_test_split\n",
    "from sklearn.preprocessing import StandardScaler\n",
    "from sklearn.svm import SVC\n",
    "from sklearn.metrics import confusion_matrix"
   ]
  },
  {
   "cell_type": "code",
   "execution_count": 53,
   "metadata": {},
   "outputs": [
    {
     "data": {
      "text/html": [
       "<div>\n",
       "<style scoped>\n",
       "    .dataframe tbody tr th:only-of-type {\n",
       "        vertical-align: middle;\n",
       "    }\n",
       "\n",
       "    .dataframe tbody tr th {\n",
       "        vertical-align: top;\n",
       "    }\n",
       "\n",
       "    .dataframe thead th {\n",
       "        text-align: right;\n",
       "    }\n",
       "</style>\n",
       "<table border=\"1\" class=\"dataframe\">\n",
       "  <thead>\n",
       "    <tr style=\"text-align: right;\">\n",
       "      <th></th>\n",
       "      <th>feature_1</th>\n",
       "      <th>feature_2</th>\n",
       "      <th>feature_3</th>\n",
       "      <th>feature_4</th>\n",
       "      <th>feature_5</th>\n",
       "      <th>feature_6</th>\n",
       "      <th>feature_7</th>\n",
       "      <th>feature_8</th>\n",
       "      <th>feature_9</th>\n",
       "      <th>feature_10</th>\n",
       "      <th>...</th>\n",
       "      <th>feature_553</th>\n",
       "      <th>feature_554</th>\n",
       "      <th>feature_555</th>\n",
       "      <th>feature_556</th>\n",
       "      <th>feature_557</th>\n",
       "      <th>feature_558</th>\n",
       "      <th>feature_559</th>\n",
       "      <th>feature_560</th>\n",
       "      <th>feature_561</th>\n",
       "      <th>activity</th>\n",
       "    </tr>\n",
       "  </thead>\n",
       "  <tbody>\n",
       "    <tr>\n",
       "      <th>0</th>\n",
       "      <td>0.289</td>\n",
       "      <td>-0.02030</td>\n",
       "      <td>-0.133</td>\n",
       "      <td>-0.995</td>\n",
       "      <td>-0.983</td>\n",
       "      <td>-0.914</td>\n",
       "      <td>-0.995</td>\n",
       "      <td>-0.983</td>\n",
       "      <td>-0.924</td>\n",
       "      <td>-0.935</td>\n",
       "      <td>...</td>\n",
       "      <td>-0.2990</td>\n",
       "      <td>-0.710</td>\n",
       "      <td>-0.1130</td>\n",
       "      <td>0.03040</td>\n",
       "      <td>-0.4650</td>\n",
       "      <td>-0.0184</td>\n",
       "      <td>-0.841</td>\n",
       "      <td>0.180</td>\n",
       "      <td>-0.0586</td>\n",
       "      <td>5</td>\n",
       "    </tr>\n",
       "    <tr>\n",
       "      <th>1</th>\n",
       "      <td>0.278</td>\n",
       "      <td>-0.01640</td>\n",
       "      <td>-0.124</td>\n",
       "      <td>-0.998</td>\n",
       "      <td>-0.975</td>\n",
       "      <td>-0.960</td>\n",
       "      <td>-0.999</td>\n",
       "      <td>-0.975</td>\n",
       "      <td>-0.958</td>\n",
       "      <td>-0.943</td>\n",
       "      <td>...</td>\n",
       "      <td>-0.5950</td>\n",
       "      <td>-0.861</td>\n",
       "      <td>0.0535</td>\n",
       "      <td>-0.00743</td>\n",
       "      <td>-0.7330</td>\n",
       "      <td>0.7040</td>\n",
       "      <td>-0.845</td>\n",
       "      <td>0.180</td>\n",
       "      <td>-0.0543</td>\n",
       "      <td>5</td>\n",
       "    </tr>\n",
       "    <tr>\n",
       "      <th>2</th>\n",
       "      <td>0.280</td>\n",
       "      <td>-0.01950</td>\n",
       "      <td>-0.113</td>\n",
       "      <td>-0.995</td>\n",
       "      <td>-0.967</td>\n",
       "      <td>-0.979</td>\n",
       "      <td>-0.997</td>\n",
       "      <td>-0.964</td>\n",
       "      <td>-0.977</td>\n",
       "      <td>-0.939</td>\n",
       "      <td>...</td>\n",
       "      <td>-0.3910</td>\n",
       "      <td>-0.760</td>\n",
       "      <td>-0.1190</td>\n",
       "      <td>0.17800</td>\n",
       "      <td>0.1010</td>\n",
       "      <td>0.8090</td>\n",
       "      <td>-0.849</td>\n",
       "      <td>0.181</td>\n",
       "      <td>-0.0491</td>\n",
       "      <td>5</td>\n",
       "    </tr>\n",
       "    <tr>\n",
       "      <th>3</th>\n",
       "      <td>0.279</td>\n",
       "      <td>-0.02620</td>\n",
       "      <td>-0.123</td>\n",
       "      <td>-0.996</td>\n",
       "      <td>-0.983</td>\n",
       "      <td>-0.991</td>\n",
       "      <td>-0.997</td>\n",
       "      <td>-0.983</td>\n",
       "      <td>-0.989</td>\n",
       "      <td>-0.939</td>\n",
       "      <td>...</td>\n",
       "      <td>-0.1170</td>\n",
       "      <td>-0.483</td>\n",
       "      <td>-0.0368</td>\n",
       "      <td>-0.01290</td>\n",
       "      <td>0.6400</td>\n",
       "      <td>-0.4850</td>\n",
       "      <td>-0.849</td>\n",
       "      <td>0.182</td>\n",
       "      <td>-0.0477</td>\n",
       "      <td>5</td>\n",
       "    </tr>\n",
       "    <tr>\n",
       "      <th>4</th>\n",
       "      <td>0.277</td>\n",
       "      <td>-0.01660</td>\n",
       "      <td>-0.115</td>\n",
       "      <td>-0.998</td>\n",
       "      <td>-0.981</td>\n",
       "      <td>-0.990</td>\n",
       "      <td>-0.998</td>\n",
       "      <td>-0.980</td>\n",
       "      <td>-0.990</td>\n",
       "      <td>-0.942</td>\n",
       "      <td>...</td>\n",
       "      <td>-0.3510</td>\n",
       "      <td>-0.699</td>\n",
       "      <td>0.1230</td>\n",
       "      <td>0.12300</td>\n",
       "      <td>0.6940</td>\n",
       "      <td>-0.6160</td>\n",
       "      <td>-0.848</td>\n",
       "      <td>0.185</td>\n",
       "      <td>-0.0439</td>\n",
       "      <td>5</td>\n",
       "    </tr>\n",
       "    <tr>\n",
       "      <th>5</th>\n",
       "      <td>0.277</td>\n",
       "      <td>-0.01010</td>\n",
       "      <td>-0.105</td>\n",
       "      <td>-0.997</td>\n",
       "      <td>-0.990</td>\n",
       "      <td>-0.995</td>\n",
       "      <td>-0.998</td>\n",
       "      <td>-0.990</td>\n",
       "      <td>-0.996</td>\n",
       "      <td>-0.942</td>\n",
       "      <td>...</td>\n",
       "      <td>-0.5450</td>\n",
       "      <td>-0.845</td>\n",
       "      <td>0.0826</td>\n",
       "      <td>-0.14300</td>\n",
       "      <td>0.2750</td>\n",
       "      <td>-0.3680</td>\n",
       "      <td>-0.850</td>\n",
       "      <td>0.185</td>\n",
       "      <td>-0.0421</td>\n",
       "      <td>5</td>\n",
       "    </tr>\n",
       "    <tr>\n",
       "      <th>6</th>\n",
       "      <td>0.279</td>\n",
       "      <td>-0.01960</td>\n",
       "      <td>-0.110</td>\n",
       "      <td>-0.997</td>\n",
       "      <td>-0.967</td>\n",
       "      <td>-0.983</td>\n",
       "      <td>-0.997</td>\n",
       "      <td>-0.966</td>\n",
       "      <td>-0.983</td>\n",
       "      <td>-0.941</td>\n",
       "      <td>...</td>\n",
       "      <td>-0.2170</td>\n",
       "      <td>-0.564</td>\n",
       "      <td>-0.2130</td>\n",
       "      <td>-0.23100</td>\n",
       "      <td>0.0146</td>\n",
       "      <td>-0.1900</td>\n",
       "      <td>-0.852</td>\n",
       "      <td>0.182</td>\n",
       "      <td>-0.0430</td>\n",
       "      <td>5</td>\n",
       "    </tr>\n",
       "    <tr>\n",
       "      <th>7</th>\n",
       "      <td>0.277</td>\n",
       "      <td>-0.03050</td>\n",
       "      <td>-0.125</td>\n",
       "      <td>-0.997</td>\n",
       "      <td>-0.967</td>\n",
       "      <td>-0.982</td>\n",
       "      <td>-0.996</td>\n",
       "      <td>-0.966</td>\n",
       "      <td>-0.983</td>\n",
       "      <td>-0.941</td>\n",
       "      <td>...</td>\n",
       "      <td>-0.0823</td>\n",
       "      <td>-0.422</td>\n",
       "      <td>-0.0209</td>\n",
       "      <td>0.59400</td>\n",
       "      <td>-0.5620</td>\n",
       "      <td>0.4670</td>\n",
       "      <td>-0.851</td>\n",
       "      <td>0.184</td>\n",
       "      <td>-0.0420</td>\n",
       "      <td>5</td>\n",
       "    </tr>\n",
       "    <tr>\n",
       "      <th>8</th>\n",
       "      <td>0.277</td>\n",
       "      <td>-0.02180</td>\n",
       "      <td>-0.121</td>\n",
       "      <td>-0.997</td>\n",
       "      <td>-0.961</td>\n",
       "      <td>-0.984</td>\n",
       "      <td>-0.998</td>\n",
       "      <td>-0.957</td>\n",
       "      <td>-0.984</td>\n",
       "      <td>-0.941</td>\n",
       "      <td>...</td>\n",
       "      <td>-0.2690</td>\n",
       "      <td>-0.573</td>\n",
       "      <td>0.0130</td>\n",
       "      <td>0.08090</td>\n",
       "      <td>-0.2340</td>\n",
       "      <td>0.1180</td>\n",
       "      <td>-0.848</td>\n",
       "      <td>0.189</td>\n",
       "      <td>-0.0374</td>\n",
       "      <td>5</td>\n",
       "    </tr>\n",
       "    <tr>\n",
       "      <th>9</th>\n",
       "      <td>0.281</td>\n",
       "      <td>-0.00996</td>\n",
       "      <td>-0.106</td>\n",
       "      <td>-0.995</td>\n",
       "      <td>-0.973</td>\n",
       "      <td>-0.986</td>\n",
       "      <td>-0.995</td>\n",
       "      <td>-0.974</td>\n",
       "      <td>-0.986</td>\n",
       "      <td>-0.940</td>\n",
       "      <td>...</td>\n",
       "      <td>0.3400</td>\n",
       "      <td>0.140</td>\n",
       "      <td>-0.0206</td>\n",
       "      <td>-0.12800</td>\n",
       "      <td>-0.4830</td>\n",
       "      <td>-0.0707</td>\n",
       "      <td>-0.848</td>\n",
       "      <td>0.190</td>\n",
       "      <td>-0.0344</td>\n",
       "      <td>5</td>\n",
       "    </tr>\n",
       "  </tbody>\n",
       "</table>\n",
       "<p>10 rows × 562 columns</p>\n",
       "</div>"
      ],
      "text/plain": [
       "   feature_1  feature_2  feature_3  feature_4  feature_5  feature_6  \\\n",
       "0      0.289   -0.02030     -0.133     -0.995     -0.983     -0.914   \n",
       "1      0.278   -0.01640     -0.124     -0.998     -0.975     -0.960   \n",
       "2      0.280   -0.01950     -0.113     -0.995     -0.967     -0.979   \n",
       "3      0.279   -0.02620     -0.123     -0.996     -0.983     -0.991   \n",
       "4      0.277   -0.01660     -0.115     -0.998     -0.981     -0.990   \n",
       "5      0.277   -0.01010     -0.105     -0.997     -0.990     -0.995   \n",
       "6      0.279   -0.01960     -0.110     -0.997     -0.967     -0.983   \n",
       "7      0.277   -0.03050     -0.125     -0.997     -0.967     -0.982   \n",
       "8      0.277   -0.02180     -0.121     -0.997     -0.961     -0.984   \n",
       "9      0.281   -0.00996     -0.106     -0.995     -0.973     -0.986   \n",
       "\n",
       "   feature_7  feature_8  feature_9  feature_10  ...  feature_553  feature_554  \\\n",
       "0     -0.995     -0.983     -0.924      -0.935  ...      -0.2990       -0.710   \n",
       "1     -0.999     -0.975     -0.958      -0.943  ...      -0.5950       -0.861   \n",
       "2     -0.997     -0.964     -0.977      -0.939  ...      -0.3910       -0.760   \n",
       "3     -0.997     -0.983     -0.989      -0.939  ...      -0.1170       -0.483   \n",
       "4     -0.998     -0.980     -0.990      -0.942  ...      -0.3510       -0.699   \n",
       "5     -0.998     -0.990     -0.996      -0.942  ...      -0.5450       -0.845   \n",
       "6     -0.997     -0.966     -0.983      -0.941  ...      -0.2170       -0.564   \n",
       "7     -0.996     -0.966     -0.983      -0.941  ...      -0.0823       -0.422   \n",
       "8     -0.998     -0.957     -0.984      -0.941  ...      -0.2690       -0.573   \n",
       "9     -0.995     -0.974     -0.986      -0.940  ...       0.3400        0.140   \n",
       "\n",
       "   feature_555  feature_556  feature_557  feature_558  feature_559  \\\n",
       "0      -0.1130      0.03040      -0.4650      -0.0184       -0.841   \n",
       "1       0.0535     -0.00743      -0.7330       0.7040       -0.845   \n",
       "2      -0.1190      0.17800       0.1010       0.8090       -0.849   \n",
       "3      -0.0368     -0.01290       0.6400      -0.4850       -0.849   \n",
       "4       0.1230      0.12300       0.6940      -0.6160       -0.848   \n",
       "5       0.0826     -0.14300       0.2750      -0.3680       -0.850   \n",
       "6      -0.2130     -0.23100       0.0146      -0.1900       -0.852   \n",
       "7      -0.0209      0.59400      -0.5620       0.4670       -0.851   \n",
       "8       0.0130      0.08090      -0.2340       0.1180       -0.848   \n",
       "9      -0.0206     -0.12800      -0.4830      -0.0707       -0.848   \n",
       "\n",
       "   feature_560  feature_561  activity  \n",
       "0        0.180      -0.0586         5  \n",
       "1        0.180      -0.0543         5  \n",
       "2        0.181      -0.0491         5  \n",
       "3        0.182      -0.0477         5  \n",
       "4        0.185      -0.0439         5  \n",
       "5        0.185      -0.0421         5  \n",
       "6        0.182      -0.0430         5  \n",
       "7        0.184      -0.0420         5  \n",
       "8        0.189      -0.0374         5  \n",
       "9        0.190      -0.0344         5  \n",
       "\n",
       "[10 rows x 562 columns]"
      ]
     },
     "execution_count": 53,
     "metadata": {},
     "output_type": "execute_result"
    }
   ],
   "source": [
    "data=pd.read_csv(\"smartphone_activity_dataset.csv\")\n",
    "data.head(10)"
   ]
  },
  {
   "cell_type": "code",
   "execution_count": 64,
   "metadata": {},
   "outputs": [],
   "source": [
    "real_x=data.iloc[:,1:3].values\n",
    "real_y=data.iloc[:,561].values\n"
   ]
  },
  {
   "cell_type": "code",
   "execution_count": 65,
   "metadata": {},
   "outputs": [],
   "source": [
    "\n",
    "training_x,test_x,training_y,test_y=train_test_split(real_x,real_y,test_size=0.25,random_state=0)"
   ]
  },
  {
   "cell_type": "code",
   "execution_count": 66,
   "metadata": {},
   "outputs": [],
   "source": [
    "# s_c=StandardScaler()\n",
    "# training_x=s_c.fit_transform(training_x)\n",
    "# test_x=s_c.fit_transform(test_x)"
   ]
  },
  {
   "cell_type": "code",
   "execution_count": 67,
   "metadata": {},
   "outputs": [
    {
     "data": {
      "text/plain": [
       "SVC(kernel='linear', random_state=0)"
      ]
     },
     "execution_count": 67,
     "metadata": {},
     "output_type": "execute_result"
    }
   ],
   "source": [
    "cls_svc=SVC(kernel=\"linear\",random_state=0)\n",
    "cls_svc.fit(training_x,training_y)"
   ]
  },
  {
   "cell_type": "code",
   "execution_count": 68,
   "metadata": {},
   "outputs": [
    {
     "data": {
      "text/plain": [
       "array([6, 6, 6, ..., 6, 6, 6], dtype=int64)"
      ]
     },
     "execution_count": 68,
     "metadata": {},
     "output_type": "execute_result"
    }
   ],
   "source": [
    "y_pred=cls_svc.predict(test_x)\n",
    "y_pred"
   ]
  },
  {
   "cell_type": "code",
   "execution_count": 69,
   "metadata": {},
   "outputs": [
    {
     "data": {
      "text/plain": [
       "array([4, 3, 6, ..., 4, 4, 5], dtype=int64)"
      ]
     },
     "execution_count": 69,
     "metadata": {},
     "output_type": "execute_result"
    }
   ],
   "source": [
    "test_y"
   ]
  },
  {
   "cell_type": "code",
   "execution_count": 70,
   "metadata": {},
   "outputs": [
    {
     "data": {
      "text/plain": [
       "array([[  0,   2,   0,   0,   0, 405],\n",
       "       [  0,  13,   0,   0,   0, 379],\n",
       "       [  0,   2,   0,   0,   0, 344],\n",
       "       [  0,   4,   0,   0,   0, 461],\n",
       "       [  0,   1,   0,   0,   0, 488],\n",
       "       [  0,   6,   0,   0,   1, 469]], dtype=int64)"
      ]
     },
     "execution_count": 70,
     "metadata": {},
     "output_type": "execute_result"
    }
   ],
   "source": [
    "c_m=confusion_matrix(test_y,y_pred)\n",
    "c_m"
   ]
  },
  {
   "cell_type": "code",
   "execution_count": 71,
   "metadata": {},
   "outputs": [
    {
     "name": "stderr",
     "output_type": "stream",
     "text": [
      "'c' argument looks like a single numeric RGB or RGBA sequence, which should be avoided as value-mapping will have precedence in case its length matches with 'x' & 'y'.  Please use a 2-D array with a single row if you really want to specify the same RGB or RGBA value for all points.\n",
      "'c' argument looks like a single numeric RGB or RGBA sequence, which should be avoided as value-mapping will have precedence in case its length matches with 'x' & 'y'.  Please use a 2-D array with a single row if you really want to specify the same RGB or RGBA value for all points.\n",
      "'c' argument looks like a single numeric RGB or RGBA sequence, which should be avoided as value-mapping will have precedence in case its length matches with 'x' & 'y'.  Please use a 2-D array with a single row if you really want to specify the same RGB or RGBA value for all points.\n",
      "'c' argument looks like a single numeric RGB or RGBA sequence, which should be avoided as value-mapping will have precedence in case its length matches with 'x' & 'y'.  Please use a 2-D array with a single row if you really want to specify the same RGB or RGBA value for all points.\n",
      "'c' argument looks like a single numeric RGB or RGBA sequence, which should be avoided as value-mapping will have precedence in case its length matches with 'x' & 'y'.  Please use a 2-D array with a single row if you really want to specify the same RGB or RGBA value for all points.\n",
      "'c' argument looks like a single numeric RGB or RGBA sequence, which should be avoided as value-mapping will have precedence in case its length matches with 'x' & 'y'.  Please use a 2-D array with a single row if you really want to specify the same RGB or RGBA value for all points.\n"
     ]
    },
    {
     "data": {
      "image/png": "[encoded data removed]",
      "text/plain": [
       "<Figure size 432x288 with 1 Axes>"
      ]
     },
     "metadata": {
      "needs_background": "light"
     },
     "output_type": "display_data"
    }
   ],
   "source": [
    "from matplotlib.colors import ListedColormap\n",
    "X_set, y_set = training_x,training_y\n",
    "X1, X2 = np.meshgrid(np.arange(start = X_set[:, 0].min() - 1, stop = X_set[:, 0].max() + 1, step = 0.01),\n",
    "                     np.arange(start = X_set[:, 1].min() - 1, stop = X_set[:, 1].max() + 1, step = 0.01))\n",
    "plt.contourf(X1, X2, cls_svc.predict(np.array([X1.ravel(), X2.ravel()]).T).reshape(X1.shape),\n",
    "             alpha = 0.75, cmap = ListedColormap(('blue', 'green')))\n",
    "plt.xlim(X1.min(), X1.max())\n",
    "plt.ylim(X2.min(), X2.max())\n",
    "for i, j in enumerate(np.unique(y_set)):\n",
    "    plt.scatter(X_set[y_set == j, 0], X_set[y_set == j, 1],\n",
    "                c = ListedColormap(('red', 'green'))(i), label = j)\n",
    "plt.title('SVM (Training set)')\n",
    "plt.xlabel('Age')\n",
    "plt.ylabel('Estimated Salary')\n",
    "plt.legend()\n",
    "plt.show()"
   ]
  },
  {
   "cell_type": "code",
   "execution_count": 73,
   "metadata": {},
   "outputs": [
    {
     "name": "stderr",
     "output_type": "stream",
     "text": [
      "'c' argument looks like a single numeric RGB or RGBA sequence, which should be avoided as value-mapping will have precedence in case its length matches with 'x' & 'y'.  Please use a 2-D array with a single row if you really want to specify the same RGB or RGBA value for all points.\n",
      "'c' argument looks like a single numeric RGB or RGBA sequence, which should be avoided as value-mapping will have precedence in case its length matches with 'x' & 'y'.  Please use a 2-D array with a single row if you really want to specify the same RGB or RGBA value for all points.\n",
      "'c' argument looks like a single numeric RGB or RGBA sequence, which should be avoided as value-mapping will have precedence in case its length matches with 'x' & 'y'.  Please use a 2-D array with a single row if you really want to specify the same RGB or RGBA value for all points.\n",
      "'c' argument looks like a single numeric RGB or RGBA sequence, which should be avoided as value-mapping will have precedence in case its length matches with 'x' & 'y'.  Please use a 2-D array with a single row if you really want to specify the same RGB or RGBA value for all points.\n",
      "'c' argument looks like a single numeric RGB or RGBA sequence, which should be avoided as value-mapping will have precedence in case its length matches with 'x' & 'y'.  Please use a 2-D array with a single row if you really want to specify the same RGB or RGBA value for all points.\n",
      "'c' argument looks like a single numeric RGB or RGBA sequence, which should be avoided as value-mapping will have precedence in case its length matches with 'x' & 'y'.  Please use a 2-D array with a single row if you really want to specify the same RGB or RGBA value for all points.\n"
     ]
    },
    {
     "data": {
      "image/png": "[encoded data removed]",
      "text/plain": [
       "<Figure size 432x288 with 1 Axes>"
      ]
     },
     "metadata": {
      "needs_background": "light"
     },
     "output_type": "display_data"
    }
   ],
   "source": [
    "from matplotlib.colors import ListedColormap\n",
    "X_set, y_set = test_x,test_y\n",
    "X1, X2 = np.meshgrid(np.arange(start = X_set[:, 0].min() - 1, stop = X_set[:, 0].max() + 1, step = 0.01),\n",
    "                     np.arange(start = X_set[:, 1].min() - 1, stop = X_set[:, 1].max() + 1, step = 0.01))\n",
    "plt.contourf(X1, X2, cls_svc.predict(np.array([X1.ravel(), X2.ravel()]).T).reshape(X1.shape),\n",
    "             alpha = 0.75, cmap = ListedColormap(('blue', 'green')))\n",
    "plt.xlim(X1.min(), X1.max())\n",
    "plt.ylim(X2.min(), X2.max())\n",
    "for i, j in enumerate(np.unique(y_set)):\n",
    "    plt.scatter(X_set[y_set == j, 0], X_set[y_set == j, 1],\n",
    "                c = ListedColormap(('red', 'green'))(i), label = j)\n",
    "plt.title('SVM (Training set)')\n",
    "plt.xlabel('Age')\n",
    "plt.ylabel('Estimated Salary')\n",
    "plt.legend()\n",
    "plt.show()"
   ]
  }
 ],
 "metadata": {
  "kernelspec": {
   "display_name": "Python 3",
   "language": "python",
   "name": "python3"
  },
  "language_info": {
   "codemirror_mode": {
    "name": "ipython",
    "version": 3
   },
   "file_extension": ".py",
   "mimetype": "text/x-python",
   "name": "python",
   "nbconvert_exporter": "python",
   "pygments_lexer": "ipython3",
   "version": "3.8.3"
  },
  "nbTranslate": {
   "displayLangs": [
    "*"
   ],
   "hotkey": "alt-t",
   "langInMainMenu": true,
   "sourceLang": "en",
   "targetLang": "fr",
   "useGoogleTranslate": true
  },
  "toc": {
   "base_numbering": 1,
   "nav_menu": {},
   "number_sections": true,
   "sideBar": true,
   "skip_h1_title": false,
   "title_cell": "Table of Contents",
   "title_sidebar": "Contents",
   "toc_cell": false,
   "toc_position": {},
   "toc_section_display": true,
   "toc_window_display": false
  },
  "varInspector": {
   "cols": {
    "lenName": 16,
    "lenType": 16,
    "lenVar": 40
   },
   "kernels_config": {
    "python": {
     "delete_cmd_postfix": "",
     "delete_cmd_prefix": "del ",
     "library": "var_list.py",
     "varRefreshCmd": "print(var_dic_list())"
    },
    "r": {
     "delete_cmd_postfix": ") ",
     "delete_cmd_prefix": "rm(",
     "library": "var_list.r",
     "varRefreshCmd": "cat(var_dic_list()) "
    }
   },
   "types_to_exclude": [
    "module",
    "function",
    "builtin_function_or_method",
    "instance",
    "_Feature"
   ],
   "window_display": false
  }
 },
 "nbformat": 4,
 "nbformat_minor": 4
}
