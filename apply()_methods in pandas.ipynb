{
 "cells": [
  {
   "cell_type": "code",
   "execution_count": 6,
   "metadata": {},
   "outputs": [
    {
     "data": {
      "text/plain": [
       "0     325.25\n",
       "1     331.27\n",
       "2     329.83\n",
       "3     328.34\n",
       "4     322.04\n",
       "5     313.70\n",
       "6     310.59\n",
       "7     314.43\n",
       "8     311.96\n",
       "9     314.81\n",
       "10    312.14\n",
       "11    319.30\n",
       "12    294.16\n",
       "13    291.91\n",
       "14    292.07\n",
       "Name: prices , dtype: float64"
      ]
     },
     "execution_count": 6,
     "metadata": {},
     "output_type": "execute_result"
    }
   ],
   "source": [
    "import pandas as pd \n",
    "\n",
    "\n",
    "google=pd.read_csv(\"google_stock_prices.csv\",squeeze=True)\n",
    "google.head(15)"
   ]
  },
  {
   "cell_type": "code",
   "execution_count": 71,
   "metadata": {},
   "outputs": [],
   "source": [
    "def price(num):\n",
    "    if num >220: \n",
    "        return \" All ok !\"\n",
    "\n",
    "    elif num < 280 :\n",
    "        return\"some buddy worng....!\" \n",
    "    else:\n",
    "        return\"places check agen...your dataset....! \" "
   ]
  },
  {
   "cell_type": "code",
   "execution_count": 74,
   "metadata": {},
   "outputs": [
    {
     "data": {
      "text/plain": [
       "0      All ok !\n",
       "1      All ok !\n",
       "2      All ok !\n",
       "3      All ok !\n",
       "4      All ok !\n",
       "5      All ok !\n",
       "6      All ok !\n",
       "7      All ok !\n",
       "8      All ok !\n",
       "9      All ok !\n",
       "10     All ok !\n",
       "11     All ok !\n",
       "12     All ok !\n",
       "13     All ok !\n",
       "14     All ok !\n",
       "15     All ok !\n",
       "16     All ok !\n",
       "17     All ok !\n",
       "18     All ok !\n",
       "19     All ok !\n",
       "20     All ok !\n",
       "21     All ok !\n",
       "22     All ok !\n",
       "23     All ok !\n",
       "24     All ok !\n",
       "25     All ok !\n",
       "26     All ok !\n",
       "27     All ok !\n",
       "28     All ok !\n",
       "29     All ok !\n",
       "30     All ok !\n",
       "31     All ok !\n",
       "32     All ok !\n",
       "33     All ok !\n",
       "34     All ok !\n",
       "35     All ok !\n",
       "36     All ok !\n",
       "37     All ok !\n",
       "38     All ok !\n",
       "39     All ok !\n",
       "40     All ok !\n",
       "41     All ok !\n",
       "42     All ok !\n",
       "43     All ok !\n",
       "44     All ok !\n",
       "45     All ok !\n",
       "46     All ok !\n",
       "47     All ok !\n",
       "48     All ok !\n",
       "49     All ok !\n",
       "Name: prices , dtype: object"
      ]
     },
     "execution_count": 74,
     "metadata": {},
     "output_type": "execute_result"
    }
   ],
   "source": [
    "google.apply(price).head(50)"
   ]
  },
  {
   "cell_type": "code",
   "execution_count": 65,
   "metadata": {},
   "outputs": [
    {
     "data": {
      "text/plain": [
       "1258"
      ]
     },
     "execution_count": 65,
     "metadata": {},
     "output_type": "execute_result"
    }
   ],
   "source": [
    "google.apply(price).count()"
   ]
  },
  {
   "cell_type": "code",
   "execution_count": 76,
   "metadata": {},
   "outputs": [
    {
     "data": {
      "text/plain": [
       "1258"
      ]
     },
     "execution_count": 76,
     "metadata": {},
     "output_type": "execute_result"
    }
   ],
   "source": [
    "google.count()"
   ]
  },
  {
   "cell_type": "code",
   "execution_count": 80,
   "metadata": {},
   "outputs": [
    {
     "data": {
      "text/plain": [
       "0    325.25\n",
       "1    331.27\n",
       "2    329.83\n",
       "3    328.34\n",
       "4    322.04\n",
       "Name: prices , dtype: float64"
      ]
     },
     "execution_count": 80,
     "metadata": {},
     "output_type": "execute_result"
    }
   ],
   "source": [
    "google.head()"
   ]
  },
  {
   "cell_type": "code",
   "execution_count": 83,
   "metadata": {},
   "outputs": [
    {
     "data": {
      "text/plain": [
       "0    330.25\n",
       "1    336.27\n",
       "2    334.83\n",
       "3    333.34\n",
       "4    327.04\n",
       "Name: prices , dtype: float64"
      ]
     },
     "execution_count": 83,
     "metadata": {},
     "output_type": "execute_result"
    }
   ],
   "source": [
    "google.head().apply(lambda num : num+5)"
   ]
  }
 ],
 "metadata": {
  "kernelspec": {
   "display_name": "Python 3",
   "language": "python",
   "name": "python3"
  },
  "language_info": {
   "codemirror_mode": {
    "name": "ipython",
    "version": 3
   },
   "file_extension": ".py",
   "mimetype": "text/x-python",
   "name": "python",
   "nbconvert_exporter": "python",
   "pygments_lexer": "ipython3",
   "version": "3.8.3"
  },
  "nbTranslate": {
   "displayLangs": [
    "*"
   ],
   "hotkey": "alt-t",
   "langInMainMenu": true,
   "sourceLang": "en",
   "targetLang": "fr",
   "useGoogleTranslate": true
  },
  "toc": {
   "base_numbering": 1,
   "nav_menu": {},
   "number_sections": true,
   "sideBar": true,
   "skip_h1_title": false,
   "title_cell": "Table of Contents",
   "title_sidebar": "Contents",
   "toc_cell": false,
   "toc_position": {},
   "toc_section_display": true,
   "toc_window_display": false
  },
  "varInspector": {
   "cols": {
    "lenName": 16,
    "lenType": 16,
    "lenVar": 40
   },
   "kernels_config": {
    "python": {
     "delete_cmd_postfix": "",
     "delete_cmd_prefix": "del ",
     "library": "var_list.py",
     "varRefreshCmd": "print(var_dic_list())"
    },
    "r": {
     "delete_cmd_postfix": ") ",
     "delete_cmd_prefix": "rm(",
     "library": "var_list.r",
     "varRefreshCmd": "cat(var_dic_list()) "
    }
   },
   "types_to_exclude": [
    "module",
    "function",
    "builtin_function_or_method",
    "instance",
    "_Feature"
   ],
   "window_display": false
  }
 },
 "nbformat": 4,
 "nbformat_minor": 4
}
