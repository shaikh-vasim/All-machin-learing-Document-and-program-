{
 "cells": [
  {
   "cell_type": "code",
   "execution_count": 1,
   "metadata": {},
   "outputs": [],
   "source": [
    "import pandas as pd\n",
    "import numpy as np\n",
    "import matplotlib.pyplot as plt\n",
    "from sklearn.model_selection import train_test_split\n",
    "from sklearn.linear_model import LinearRegression"
   ]
  },
  {
   "cell_type": "code",
   "execution_count": 30,
   "metadata": {},
   "outputs": [
    {
     "data": {
      "text/html": [
       "<div>\n",
       "<style scoped>\n",
       "    .dataframe tbody tr th:only-of-type {\n",
       "        vertical-align: middle;\n",
       "    }\n",
       "\n",
       "    .dataframe tbody tr th {\n",
       "        vertical-align: top;\n",
       "    }\n",
       "\n",
       "    .dataframe thead th {\n",
       "        text-align: right;\n",
       "    }\n",
       "</style>\n",
       "<table border=\"1\" class=\"dataframe\">\n",
       "  <thead>\n",
       "    <tr style=\"text-align: right;\">\n",
       "      <th></th>\n",
       "      <th>1no</th>\n",
       "      <th>2no</th>\n",
       "      <th>3no</th>\n",
       "      <th>4no</th>\n",
       "      <th>5no</th>\n",
       "      <th>total</th>\n",
       "    </tr>\n",
       "  </thead>\n",
       "  <tbody>\n",
       "    <tr>\n",
       "      <th>0</th>\n",
       "      <td>15.0</td>\n",
       "      <td>56.0</td>\n",
       "      <td>6545.0</td>\n",
       "      <td>664.0</td>\n",
       "      <td>210.0</td>\n",
       "      <td>7490.0</td>\n",
       "    </tr>\n",
       "    <tr>\n",
       "      <th>1</th>\n",
       "      <td>15.0</td>\n",
       "      <td>25.0</td>\n",
       "      <td>26.0</td>\n",
       "      <td>545.0</td>\n",
       "      <td>5456.0</td>\n",
       "      <td>6067.0</td>\n",
       "    </tr>\n",
       "    <tr>\n",
       "      <th>2</th>\n",
       "      <td>88.0</td>\n",
       "      <td>55.0</td>\n",
       "      <td>54.0</td>\n",
       "      <td>554.0</td>\n",
       "      <td>55656.0</td>\n",
       "      <td>56407.0</td>\n",
       "    </tr>\n",
       "    <tr>\n",
       "      <th>3</th>\n",
       "      <td>151.0</td>\n",
       "      <td>65646.0</td>\n",
       "      <td>8484.0</td>\n",
       "      <td>134584.0</td>\n",
       "      <td>664.0</td>\n",
       "      <td>209529.0</td>\n",
       "    </tr>\n",
       "    <tr>\n",
       "      <th>4</th>\n",
       "      <td>6546.0</td>\n",
       "      <td>66416.0</td>\n",
       "      <td>6464.0</td>\n",
       "      <td>651641.0</td>\n",
       "      <td>6465464.0</td>\n",
       "      <td>7196531.0</td>\n",
       "    </tr>\n",
       "  </tbody>\n",
       "</table>\n",
       "</div>"
      ],
      "text/plain": [
       "      1no      2no     3no       4no        5no      total\n",
       "0    15.0     56.0  6545.0     664.0      210.0     7490.0\n",
       "1    15.0     25.0    26.0     545.0     5456.0     6067.0\n",
       "2    88.0     55.0    54.0     554.0    55656.0    56407.0\n",
       "3   151.0  65646.0  8484.0  134584.0      664.0   209529.0\n",
       "4  6546.0  66416.0  6464.0  651641.0  6465464.0  7196531.0"
      ]
     },
     "execution_count": 30,
     "metadata": {},
     "output_type": "execute_result"
    }
   ],
   "source": [
    "data=pd.read_csv(\"C:\\\\Users\\Vasim shaikh\\Downloads\\ML Project 1\\Book2.csv\")\n",
    "\n",
    "data.head()"
   ]
  },
  {
   "cell_type": "code",
   "execution_count": 31,
   "metadata": {},
   "outputs": [],
   "source": [
    "real_x= data.iloc[:,:5].values\n",
    "real_y= data.iloc[:,5].values\n",
    "# real_x=real_x.reshape(-1,1)\n",
    "# real_y=real_y.reshape(-1,1)"
   ]
  },
  {
   "cell_type": "code",
   "execution_count": 32,
   "metadata": {},
   "outputs": [
    {
     "data": {
      "text/plain": [
       "array([[1.50000000e+01, 5.60000000e+01, 6.54500000e+03, 6.64000000e+02,\n",
       "        2.10000000e+02],\n",
       "       [1.50000000e+01, 2.50000000e+01, 2.60000000e+01, 5.45000000e+02,\n",
       "        5.45600000e+03],\n",
       "       [8.80000000e+01, 5.50000000e+01, 5.40000000e+01, 5.54000000e+02,\n",
       "        5.56560000e+04],\n",
       "       ...,\n",
       "       [4.65143907e+06, 9.37745993e+06, 6.00289600e+05, 4.37933359e+07,\n",
       "        3.09391858e+08],\n",
       "       [4.65977909e+06, 9.39425176e+06, 6.01359286e+05, 4.38717545e+07,\n",
       "        3.09945859e+08],\n",
       "       [4.66811912e+06, 9.41104359e+06, 6.02428971e+05, 4.39501732e+07,\n",
       "        3.10499860e+08]])"
      ]
     },
     "execution_count": 32,
     "metadata": {},
     "output_type": "execute_result"
    }
   ],
   "source": [
    "real_x"
   ]
  },
  {
   "cell_type": "code",
   "execution_count": 33,
   "metadata": {},
   "outputs": [],
   "source": [
    "training_x,testing_x,training_y,testing_y= train_test_split(real_x,real_y,test_size=0.3,random_state=0) \n"
   ]
  },
  {
   "cell_type": "code",
   "execution_count": 34,
   "metadata": {},
   "outputs": [
    {
     "data": {
      "text/plain": [
       "LinearRegression()"
      ]
     },
     "execution_count": 34,
     "metadata": {},
     "output_type": "execute_result"
    }
   ],
   "source": [
    "lin=LinearRegression()\n",
    "lin.fit(training_x,training_y)\n"
   ]
  },
  {
   "cell_type": "code",
   "execution_count": 35,
   "metadata": {},
   "outputs": [],
   "source": [
    "pred_y=lin.predict(testing_x)"
   ]
  },
  {
   "cell_type": "code",
   "execution_count": 39,
   "metadata": {},
   "outputs": [
    {
     "data": {
      "text/plain": [
       "289438418.7"
      ]
     },
     "execution_count": 39,
     "metadata": {},
     "output_type": "execute_result"
    }
   ],
   "source": [
    "testing_y[5]"
   ]
  }
 ],
 "metadata": {
  "kernelspec": {
   "display_name": "Python 3",
   "language": "python",
   "name": "python3"
  },
  "language_info": {
   "codemirror_mode": {
    "name": "ipython",
    "version": 3
   },
   "file_extension": ".py",
   "mimetype": "text/x-python",
   "name": "python",
   "nbconvert_exporter": "python",
   "pygments_lexer": "ipython3",
   "version": "3.8.3"
  }
 },
 "nbformat": 4,
 "nbformat_minor": 4
}
