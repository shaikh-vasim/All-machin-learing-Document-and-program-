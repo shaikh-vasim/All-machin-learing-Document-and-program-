{
 "cells": [
  {
   "cell_type": "code",
   "execution_count": 1,
   "metadata": {},
   "outputs": [],
   "source": [
    "import numpy as np\n",
    "import pandas as pd\n",
    "import matplotlib as plt\n",
    "from sklearn.model_selection import train_test_split\n",
    "from sklearn.linear_model import LinearRegression\n",
    "from sklearn.preprocessing import LabelEncoder \n",
    "from sklearn.tree import DecisionTreeRegressor\n",
    "from sklearn.ensemble import RandomForestRegressor\n",
    "from sklearn.neighbors import KNeighborsClassifier\n"
   ]
  },
  {
   "cell_type": "code",
   "execution_count": 2,
   "metadata": {},
   "outputs": [
    {
     "data": {
      "text/html": [
       "<div>\n",
       "<style scoped>\n",
       "    .dataframe tbody tr th:only-of-type {\n",
       "        vertical-align: middle;\n",
       "    }\n",
       "\n",
       "    .dataframe tbody tr th {\n",
       "        vertical-align: top;\n",
       "    }\n",
       "\n",
       "    .dataframe thead th {\n",
       "        text-align: right;\n",
       "    }\n",
       "</style>\n",
       "<table border=\"1\" class=\"dataframe\">\n",
       "  <thead>\n",
       "    <tr style=\"text-align: right;\">\n",
       "      <th></th>\n",
       "      <th>1no</th>\n",
       "      <th>2no</th>\n",
       "      <th>3no</th>\n",
       "      <th>4no</th>\n",
       "      <th>5no</th>\n",
       "      <th>total</th>\n",
       "    </tr>\n",
       "  </thead>\n",
       "  <tbody>\n",
       "    <tr>\n",
       "      <th>0</th>\n",
       "      <td>15.00000</td>\n",
       "      <td>56.00000</td>\n",
       "      <td>6545.000000</td>\n",
       "      <td>6.640000e+02</td>\n",
       "      <td>210.000</td>\n",
       "      <td>7490.000</td>\n",
       "    </tr>\n",
       "    <tr>\n",
       "      <th>1</th>\n",
       "      <td>15.00000</td>\n",
       "      <td>25.00000</td>\n",
       "      <td>26.000000</td>\n",
       "      <td>5.450000e+02</td>\n",
       "      <td>5456.000</td>\n",
       "      <td>6067.000</td>\n",
       "    </tr>\n",
       "    <tr>\n",
       "      <th>2</th>\n",
       "      <td>88.00000</td>\n",
       "      <td>55.00000</td>\n",
       "      <td>54.000000</td>\n",
       "      <td>5.540000e+02</td>\n",
       "      <td>55656.000</td>\n",
       "      <td>56407.000</td>\n",
       "    </tr>\n",
       "    <tr>\n",
       "      <th>3</th>\n",
       "      <td>151.00000</td>\n",
       "      <td>65646.00000</td>\n",
       "      <td>8484.000000</td>\n",
       "      <td>1.345840e+05</td>\n",
       "      <td>664.000</td>\n",
       "      <td>209529.000</td>\n",
       "    </tr>\n",
       "    <tr>\n",
       "      <th>4</th>\n",
       "      <td>6546.00000</td>\n",
       "      <td>66416.00000</td>\n",
       "      <td>6464.000000</td>\n",
       "      <td>6.516410e+05</td>\n",
       "      <td>6465464.000</td>\n",
       "      <td>7196531.000</td>\n",
       "    </tr>\n",
       "    <tr>\n",
       "      <th>5</th>\n",
       "      <td>54464.00000</td>\n",
       "      <td>64646.00000</td>\n",
       "      <td>8484.000000</td>\n",
       "      <td>1.321310e+05</td>\n",
       "      <td>13213.000</td>\n",
       "      <td>272938.000</td>\n",
       "    </tr>\n",
       "    <tr>\n",
       "      <th>6</th>\n",
       "      <td>39403.26667</td>\n",
       "      <td>91578.73333</td>\n",
       "      <td>8753.400000</td>\n",
       "      <td>4.278185e+05</td>\n",
       "      <td>3029115.200</td>\n",
       "      <td>3596669.067</td>\n",
       "    </tr>\n",
       "    <tr>\n",
       "      <th>7</th>\n",
       "      <td>47743.29524</td>\n",
       "      <td>108370.56190</td>\n",
       "      <td>9823.085714</td>\n",
       "      <td>5.062371e+05</td>\n",
       "      <td>3583116.543</td>\n",
       "      <td>4255290.610</td>\n",
       "    </tr>\n",
       "    <tr>\n",
       "      <th>8</th>\n",
       "      <td>56083.32381</td>\n",
       "      <td>125162.39050</td>\n",
       "      <td>10892.771430</td>\n",
       "      <td>5.846558e+05</td>\n",
       "      <td>4137117.886</td>\n",
       "      <td>4913912.152</td>\n",
       "    </tr>\n",
       "    <tr>\n",
       "      <th>9</th>\n",
       "      <td>64423.35238</td>\n",
       "      <td>141954.21900</td>\n",
       "      <td>11962.457140</td>\n",
       "      <td>6.630744e+05</td>\n",
       "      <td>4691119.229</td>\n",
       "      <td>5572533.695</td>\n",
       "    </tr>\n",
       "    <tr>\n",
       "      <th>10</th>\n",
       "      <td>72763.38095</td>\n",
       "      <td>158746.04760</td>\n",
       "      <td>13032.142860</td>\n",
       "      <td>7.414931e+05</td>\n",
       "      <td>5245120.571</td>\n",
       "      <td>6231155.238</td>\n",
       "    </tr>\n",
       "    <tr>\n",
       "      <th>11</th>\n",
       "      <td>81103.40952</td>\n",
       "      <td>175537.87620</td>\n",
       "      <td>14101.828570</td>\n",
       "      <td>8.199118e+05</td>\n",
       "      <td>5799121.914</td>\n",
       "      <td>6889776.781</td>\n",
       "    </tr>\n",
       "    <tr>\n",
       "      <th>12</th>\n",
       "      <td>89443.43810</td>\n",
       "      <td>192329.70480</td>\n",
       "      <td>15171.514290</td>\n",
       "      <td>8.983304e+05</td>\n",
       "      <td>6353123.257</td>\n",
       "      <td>7548398.324</td>\n",
       "    </tr>\n",
       "    <tr>\n",
       "      <th>13</th>\n",
       "      <td>97783.46667</td>\n",
       "      <td>209121.53330</td>\n",
       "      <td>16241.200000</td>\n",
       "      <td>9.767491e+05</td>\n",
       "      <td>6907124.600</td>\n",
       "      <td>8207019.867</td>\n",
       "    </tr>\n",
       "    <tr>\n",
       "      <th>14</th>\n",
       "      <td>106123.49520</td>\n",
       "      <td>225913.36190</td>\n",
       "      <td>17310.885710</td>\n",
       "      <td>1.055168e+06</td>\n",
       "      <td>7461125.943</td>\n",
       "      <td>8865641.410</td>\n",
       "    </tr>\n",
       "  </tbody>\n",
       "</table>\n",
       "</div>"
      ],
      "text/plain": [
       "             1no           2no           3no           4no          5no  \\\n",
       "0       15.00000      56.00000   6545.000000  6.640000e+02      210.000   \n",
       "1       15.00000      25.00000     26.000000  5.450000e+02     5456.000   \n",
       "2       88.00000      55.00000     54.000000  5.540000e+02    55656.000   \n",
       "3      151.00000   65646.00000   8484.000000  1.345840e+05      664.000   \n",
       "4     6546.00000   66416.00000   6464.000000  6.516410e+05  6465464.000   \n",
       "5    54464.00000   64646.00000   8484.000000  1.321310e+05    13213.000   \n",
       "6    39403.26667   91578.73333   8753.400000  4.278185e+05  3029115.200   \n",
       "7    47743.29524  108370.56190   9823.085714  5.062371e+05  3583116.543   \n",
       "8    56083.32381  125162.39050  10892.771430  5.846558e+05  4137117.886   \n",
       "9    64423.35238  141954.21900  11962.457140  6.630744e+05  4691119.229   \n",
       "10   72763.38095  158746.04760  13032.142860  7.414931e+05  5245120.571   \n",
       "11   81103.40952  175537.87620  14101.828570  8.199118e+05  5799121.914   \n",
       "12   89443.43810  192329.70480  15171.514290  8.983304e+05  6353123.257   \n",
       "13   97783.46667  209121.53330  16241.200000  9.767491e+05  6907124.600   \n",
       "14  106123.49520  225913.36190  17310.885710  1.055168e+06  7461125.943   \n",
       "\n",
       "          total  \n",
       "0      7490.000  \n",
       "1      6067.000  \n",
       "2     56407.000  \n",
       "3    209529.000  \n",
       "4   7196531.000  \n",
       "5    272938.000  \n",
       "6   3596669.067  \n",
       "7   4255290.610  \n",
       "8   4913912.152  \n",
       "9   5572533.695  \n",
       "10  6231155.238  \n",
       "11  6889776.781  \n",
       "12  7548398.324  \n",
       "13  8207019.867  \n",
       "14  8865641.410  "
      ]
     },
     "execution_count": 2,
     "metadata": {},
     "output_type": "execute_result"
    }
   ],
   "source": [
    "\n",
    "hous=pd.read_csv(\"Book2.csv\")\n",
    "hous.head(15)\n",
    "\n",
    "# hous.drop([\"yo\"],axis=1,inplace=True)\n",
    "# hous.head()"
   ]
  },
  {
   "cell_type": "code",
   "execution_count": 3,
   "metadata": {},
   "outputs": [],
   "source": [
    "\n",
    "# label_enc = LabelEncoder()\n",
    "# hous.iloc[:,0] = label_enc.fit_transform(hous.iloc[:,0])\n"
   ]
  },
  {
   "cell_type": "code",
   "execution_count": 4,
   "metadata": {},
   "outputs": [],
   "source": [
    "# hous.head()"
   ]
  },
  {
   "cell_type": "code",
   "execution_count": 5,
   "metadata": {},
   "outputs": [
    {
     "name": "stdout",
     "output_type": "stream",
     "text": [
      "<class 'pandas.core.frame.DataFrame'>\n",
      "RangeIndex: 562 entries, 0 to 561\n",
      "Data columns (total 6 columns):\n",
      " #   Column  Non-Null Count  Dtype  \n",
      "---  ------  --------------  -----  \n",
      " 0   1no     562 non-null    float64\n",
      " 1   2no     562 non-null    float64\n",
      " 2   3no     562 non-null    float64\n",
      " 3   4no     562 non-null    float64\n",
      " 4   5no     562 non-null    float64\n",
      " 5   total   562 non-null    float64\n",
      "dtypes: float64(6)\n",
      "memory usage: 26.4 KB\n"
     ]
    }
   ],
   "source": [
    "hous.info()"
   ]
  },
  {
   "cell_type": "code",
   "execution_count": 6,
   "metadata": {},
   "outputs": [
    {
     "data": {
      "text/plain": [
       "total    1.000000\n",
       "5no      1.000000\n",
       "4no      1.000000\n",
       "2no      0.999998\n",
       "3no      0.999996\n",
       "1no      0.999995\n",
       "Name: total, dtype: float64"
      ]
     },
     "execution_count": 6,
     "metadata": {},
     "output_type": "execute_result"
    }
   ],
   "source": [
    "hous_c=hous.corr()\n",
    "hous_c[\"total\"].sort_values(ascending=False)"
   ]
  },
  {
   "cell_type": "code",
   "execution_count": 7,
   "metadata": {},
   "outputs": [
    {
     "data": {
      "text/plain": [
       "0           7490.0\n",
       "1           6067.0\n",
       "2          56407.0\n",
       "3         209529.0\n",
       "4        7196531.0\n",
       "          ...     \n",
       "557    366497139.2\n",
       "558    367155760.7\n",
       "559    367814382.3\n",
       "560    368473003.8\n",
       "561    369131625.4\n",
       "Name: total, Length: 562, dtype: float64"
      ]
     },
     "execution_count": 7,
     "metadata": {},
     "output_type": "execute_result"
    }
   ],
   "source": [
    "real_x=hous.iloc[:,:5]\n",
    "real_y=hous.iloc[:,5]\n",
    "real_x\n",
    "real_y"
   ]
  },
  {
   "cell_type": "code",
   "execution_count": 8,
   "metadata": {},
   "outputs": [],
   "source": [
    "trian_x,test_x,trian_y,test_y=train_test_split(real_x,real_y,test_size=0.3,random_state=0)"
   ]
  },
  {
   "cell_type": "code",
   "execution_count": 9,
   "metadata": {},
   "outputs": [
    {
     "data": {
      "text/plain": [
       "(393, 5)"
      ]
     },
     "execution_count": 9,
     "metadata": {},
     "output_type": "execute_result"
    }
   ],
   "source": [
    "trian_x.shape"
   ]
  },
  {
   "cell_type": "code",
   "execution_count": 10,
   "metadata": {},
   "outputs": [
    {
     "data": {
      "text/plain": [
       "(393,)"
      ]
     },
     "execution_count": 10,
     "metadata": {},
     "output_type": "execute_result"
    }
   ],
   "source": [
    "trian_y.shape"
   ]
  },
  {
   "cell_type": "code",
   "execution_count": 11,
   "metadata": {},
   "outputs": [
    {
     "data": {
      "text/plain": [
       "(169, 5)"
      ]
     },
     "execution_count": 11,
     "metadata": {},
     "output_type": "execute_result"
    }
   ],
   "source": [
    "test_x.shape"
   ]
  },
  {
   "cell_type": "code",
   "execution_count": 12,
   "metadata": {},
   "outputs": [
    {
     "data": {
      "text/plain": [
       "(169,)"
      ]
     },
     "execution_count": 12,
     "metadata": {},
     "output_type": "execute_result"
    }
   ],
   "source": [
    "test_y.shape"
   ]
  },
  {
   "cell_type": "code",
   "execution_count": 13,
   "metadata": {},
   "outputs": [
    {
     "data": {
      "text/plain": [
       "LinearRegression()"
      ]
     },
     "execution_count": 13,
     "metadata": {},
     "output_type": "execute_result"
    }
   ],
   "source": [
    "lin=LinearRegression()\n",
    "lin.fit(trian_x,trian_y)"
   ]
  },
  {
   "cell_type": "code",
   "execution_count": 14,
   "metadata": {},
   "outputs": [],
   "source": [
    "# lin=DecisionTreeRegressor()\n",
    "# lin.fit(trian_x,trian_y)"
   ]
  },
  {
   "cell_type": "code",
   "execution_count": 15,
   "metadata": {},
   "outputs": [],
   "source": [
    "# lin=RandomForestRegressor()\n",
    "# lin.fit(trian_x,trian_y)"
   ]
  },
  {
   "cell_type": "code",
   "execution_count": 16,
   "metadata": {},
   "outputs": [],
   "source": [
    "# lin=KNeighborsClassifier(n_neighbors=6,metric='minkowski',p=2)\n",
    "# # lin=KNeighborsClassifier()\n",
    "# lin.fit(trian_x,trian_y)"
   ]
  },
  {
   "cell_type": "code",
   "execution_count": 17,
   "metadata": {},
   "outputs": [
    {
     "data": {
      "text/plain": [
       "289438418.67080903"
      ]
     },
     "execution_count": 17,
     "metadata": {},
     "output_type": "execute_result"
    }
   ],
   "source": [
    "pred=lin.predict(test_x)\n",
    "\n",
    "pred[5]"
   ]
  },
  {
   "cell_type": "code",
   "execution_count": 18,
   "metadata": {},
   "outputs": [],
   "source": [
    "# test_y[0]"
   ]
  },
  {
   "cell_type": "code",
   "execution_count": 19,
   "metadata": {},
   "outputs": [
    {
     "data": {
      "text/plain": [
       "['vasim11.joblib']"
      ]
     },
     "execution_count": 19,
     "metadata": {},
     "output_type": "execute_result"
    }
   ],
   "source": [
    "from joblib import dump, load\n",
    "dump(lin, 'vasim11.joblib') "
   ]
  },
  {
   "cell_type": "code",
   "execution_count": 1,
   "metadata": {},
   "outputs": [
    {
     "name": "stdout",
     "output_type": "stream",
     "text": [
      "1 =81103\n",
      "2 =175537\n",
      "3 =14101\n",
      "4 =8\n",
      "5 =5799121\n",
      "CR.[6069867.8989702]\n"
     ]
    }
   ],
   "source": [
    "from joblib import dump, load\n",
    "import numpy as np\n",
    "\n",
    "a1 =int(input(\"1 =\"))\n",
    "b2 =int(input(\"2 =\"))\n",
    "c3 =int(input(\"3 =\"))\n",
    "d4 =int(input(\"4 =\"))\n",
    "e5 =int(input(\"5 =\"))\n",
    "\n",
    "\n",
    "model = load('vasim11.joblib') \n",
    "features = np.array([[\n",
    "\n",
    "    a1,\n",
    "    b2,\n",
    "    c3,\n",
    "    d4,\n",
    "    e5\n",
    "    ]])\n",
    "a=model.predict(features)\n",
    "print(f\"CR.{a}\")"
   ]
  },
  {
   "cell_type": "code",
   "execution_count": null,
   "metadata": {},
   "outputs": [],
   "source": [
    "51+54+54+565+151\n",
    "81103.40952\t175537.87620\t14101.828570\t8.199118e+05\t5799121.914\t6889776.781"
   ]
  }
 ],
 "metadata": {
  "kernelspec": {
   "display_name": "Python 3",
   "language": "python",
   "name": "python3"
  },
  "language_info": {
   "codemirror_mode": {
    "name": "ipython",
    "version": 3
   },
   "file_extension": ".py",
   "mimetype": "text/x-python",
   "name": "python",
   "nbconvert_exporter": "python",
   "pygments_lexer": "ipython3",
   "version": "3.8.3"
  }
 },
 "nbformat": 4,
 "nbformat_minor": 4
}
