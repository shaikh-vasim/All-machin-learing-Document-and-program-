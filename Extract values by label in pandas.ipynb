{
 "cells": [
  {
   "cell_type": "code",
   "execution_count": 38,
   "metadata": {},
   "outputs": [
    {
     "data": {
      "text/plain": [
       "job\n",
       "unemployed       married\n",
       "services         married\n",
       "management        single\n",
       "management       married\n",
       "blue-collar      married\n",
       "                  ...   \n",
       "services         married\n",
       "self-employed    married\n",
       "technician       married\n",
       "blue-collar      married\n",
       "entrepreneur      single\n",
       "Name: marital, Length: 4521, dtype: object"
      ]
     },
     "execution_count": 38,
     "metadata": {},
     "output_type": "execute_result"
    }
   ],
   "source": [
    "import pandas as pd\n",
    "\n",
    "bank=pd.read_csv(\"bank_marketing_dataset.csv\",squeeze=True,usecols=[\"job\",\"marital\"],index_col=(\"job\"))\n",
    "\n",
    "bank"
   ]
  },
  {
   "cell_type": "code",
   "execution_count": 29,
   "metadata": {},
   "outputs": [
    {
     "data": {
      "text/plain": [
       "job\n",
       "unemployed     married\n",
       "services       married\n",
       "management      single\n",
       "management     married\n",
       "blue-collar    married\n",
       "Name: marital, dtype: object"
      ]
     },
     "execution_count": 29,
     "metadata": {},
     "output_type": "execute_result"
    }
   ],
   "source": [
    "bank.head(5)"
   ]
  },
  {
   "cell_type": "code",
   "execution_count": 31,
   "metadata": {},
   "outputs": [
    {
     "data": {
      "text/plain": [
       "'married'"
      ]
     },
     "execution_count": 31,
     "metadata": {},
     "output_type": "execute_result"
    }
   ],
   "source": [
    "bank[1]"
   ]
  },
  {
   "cell_type": "code",
   "execution_count": 33,
   "metadata": {},
   "outputs": [
    {
     "data": {
      "text/plain": [
       "'married'"
      ]
     },
     "execution_count": 33,
     "metadata": {},
     "output_type": "execute_result"
    }
   ],
   "source": [
    "bank[3]"
   ]
  },
  {
   "cell_type": "code",
   "execution_count": 43,
   "metadata": {},
   "outputs": [
    {
     "data": {
      "text/plain": [
       "services    married\n",
       "services    married\n",
       "services    married\n",
       "services    married\n",
       "services     single\n",
       "             ...   \n",
       "services    married\n",
       "services    married\n",
       "services    married\n",
       "services     single\n",
       "services    married\n",
       "Name: marital, Length: 417, dtype: object"
      ]
     },
     "execution_count": 43,
     "metadata": {},
     "output_type": "execute_result"
    }
   ],
   "source": [
    "bank[\"services\"]"
   ]
  },
  {
   "cell_type": "code",
   "execution_count": 51,
   "metadata": {},
   "outputs": [
    {
     "data": {
      "text/plain": [
       "job\n",
       "services     married\n",
       "services     married\n",
       "services     married\n",
       "services     married\n",
       "services      single\n",
       "services      single\n",
       "services     married\n",
       "services     married\n",
       "services     married\n",
       "services     married\n",
       "services      single\n",
       "services      single\n",
       "services     married\n",
       "services    divorced\n",
       "services     married\n",
       "services      single\n",
       "services     married\n",
       "services      single\n",
       "services     married\n",
       "services     married\n",
       "services      single\n",
       "services     married\n",
       "services      single\n",
       "services    divorced\n",
       "services     married\n",
       "services     married\n",
       "services     married\n",
       "services      single\n",
       "services     married\n",
       "services     married\n",
       "services      single\n",
       "services      single\n",
       "services     married\n",
       "services     married\n",
       "services      single\n",
       "services      single\n",
       "services      single\n",
       "services     married\n",
       "services    divorced\n",
       "services    divorced\n",
       "services     married\n",
       "services     married\n",
       "services     married\n",
       "services      single\n",
       "services     married\n",
       "services     married\n",
       "services    divorced\n",
       "services     married\n",
       "services     married\n",
       "services      single\n",
       "services      single\n",
       "services     married\n",
       "services      single\n",
       "services      single\n",
       "services     married\n",
       "services     married\n",
       "services     married\n",
       "services      single\n",
       "services     married\n",
       "services     married\n",
       "Name: marital, dtype: object"
      ]
     },
     "execution_count": 51,
     "metadata": {},
     "output_type": "execute_result"
    }
   ],
   "source": [
    "bank[[\"services\",\"management\"]].head(60)"
   ]
  },
  {
   "cell_type": "code",
   "execution_count": 58,
   "metadata": {},
   "outputs": [
    {
     "data": {
      "text/plain": [
       "job\n",
       "unemployed        married\n",
       "services          married\n",
       "management         single\n",
       "management        married\n",
       "blue-collar       married\n",
       "management         single\n",
       "self-employed     married\n",
       "technician        married\n",
       "entrepreneur      married\n",
       "services          married\n",
       "services          married\n",
       "admin.            married\n",
       "technician        married\n",
       "student            single\n",
       "blue-collar       married\n",
       "management        married\n",
       "technician        married\n",
       "admin.             single\n",
       "blue-collar        single\n",
       "services          married\n",
       "management       divorced\n",
       "management       divorced\n",
       "services           single\n",
       "entrepreneur      married\n",
       "housemaid         married\n",
       "management        married\n",
       "blue-collar       married\n",
       "retired           married\n",
       "self-employed     married\n",
       "admin.            married\n",
       "Name: marital, dtype: object"
      ]
     },
     "execution_count": 58,
     "metadata": {},
     "output_type": "execute_result"
    }
   ],
   "source": [
    "bank[:30]"
   ]
  },
  {
   "cell_type": "code",
   "execution_count": null,
   "metadata": {},
   "outputs": [],
   "source": []
  }
 ],
 "metadata": {
  "kernelspec": {
   "display_name": "Python 3",
   "language": "python",
   "name": "python3"
  },
  "language_info": {
   "codemirror_mode": {
    "name": "ipython",
    "version": 3
   },
   "file_extension": ".py",
   "mimetype": "text/x-python",
   "name": "python",
   "nbconvert_exporter": "python",
   "pygments_lexer": "ipython3",
   "version": "3.8.3"
  },
  "nbTranslate": {
   "displayLangs": [
    "*"
   ],
   "hotkey": "alt-t",
   "langInMainMenu": true,
   "sourceLang": "en",
   "targetLang": "fr",
   "useGoogleTranslate": true
  },
  "toc": {
   "base_numbering": 1,
   "nav_menu": {},
   "number_sections": true,
   "sideBar": true,
   "skip_h1_title": false,
   "title_cell": "Table of Contents",
   "title_sidebar": "Contents",
   "toc_cell": false,
   "toc_position": {},
   "toc_section_display": true,
   "toc_window_display": false
  },
  "varInspector": {
   "cols": {
    "lenName": 16,
    "lenType": 16,
    "lenVar": 40
   },
   "kernels_config": {
    "python": {
     "delete_cmd_postfix": "",
     "delete_cmd_prefix": "del ",
     "library": "var_list.py",
     "varRefreshCmd": "print(var_dic_list())"
    },
    "r": {
     "delete_cmd_postfix": ") ",
     "delete_cmd_prefix": "rm(",
     "library": "var_list.r",
     "varRefreshCmd": "cat(var_dic_list()) "
    }
   },
   "types_to_exclude": [
    "module",
    "function",
    "builtin_function_or_method",
    "instance",
    "_Feature"
   ],
   "window_display": false
  }
 },
 "nbformat": 4,
 "nbformat_minor": 4
}
