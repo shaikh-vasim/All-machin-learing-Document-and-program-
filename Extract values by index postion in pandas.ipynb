{
 "cells": [
  {
   "cell_type": "code",
   "execution_count": 13,
   "metadata": {},
   "outputs": [
    {
     "data": {
      "text/plain": [
       "0                  Bulbasaur\n",
       "1                    Ivysaur\n",
       "2                   Venusaur\n",
       "3      VenusaurMega Venusaur\n",
       "4                 Charmander\n",
       "               ...          \n",
       "795                  Diancie\n",
       "796      DiancieMega Diancie\n",
       "797      HoopaHoopa Confined\n",
       "798       HoopaHoopa Unbound\n",
       "799                Volcanion\n",
       "Name: Name, Length: 800, dtype: object"
      ]
     },
     "execution_count": 13,
     "metadata": {},
     "output_type": "execute_result"
    }
   ],
   "source": [
    "import pandas as pd\n",
    "\n",
    "poke=pd.read_csv(\"Pokemon.csv\",squeeze=True,usecols=[\"Name\"])\n",
    "poke\n",
    "\n"
   ]
  },
  {
   "cell_type": "code",
   "execution_count": 14,
   "metadata": {},
   "outputs": [
    {
     "data": {
      "text/plain": [
       "0                Bulbasaur\n",
       "1                  Ivysaur\n",
       "2                 Venusaur\n",
       "3    VenusaurMega Venusaur\n",
       "4               Charmander\n",
       "Name: Name, dtype: object"
      ]
     },
     "execution_count": 14,
     "metadata": {},
     "output_type": "execute_result"
    }
   ],
   "source": [
    "# head of dataset\n",
    "poke.head(5)"
   ]
  },
  {
   "cell_type": "code",
   "execution_count": 16,
   "metadata": {},
   "outputs": [
    {
     "data": {
      "text/plain": [
       "'Venusaur'"
      ]
     },
     "execution_count": 16,
     "metadata": {},
     "output_type": "execute_result"
    }
   ],
   "source": [
    "# Extract index vaise data from data set\n",
    "poke[2]"
   ]
  },
  {
   "cell_type": "code",
   "execution_count": 18,
   "metadata": {},
   "outputs": [
    {
     "data": {
      "text/plain": [
       "1                      Ivysaur\n",
       "4                   Charmander\n",
       "5                   Charmeleon\n",
       "8    CharizardMega Charizard Y\n",
       "6                    Charizard\n",
       "4                   Charmander\n",
       "Name: Name, dtype: object"
      ]
     },
     "execution_count": 18,
     "metadata": {},
     "output_type": "execute_result"
    }
   ],
   "source": [
    "\n",
    "#Extract index vaise dataset in list \n",
    "A=[1,4,5,8,6,4]\n",
    "poke[A]"
   ]
  },
  {
   "cell_type": "code",
   "execution_count": 20,
   "metadata": {},
   "outputs": [
    {
     "data": {
      "text/plain": [
       "10                  Wartortle\n",
       "11                  Blastoise\n",
       "12    BlastoiseMega Blastoise\n",
       "13                   Caterpie\n",
       "14                    Metapod\n",
       "15                 Butterfree\n",
       "16                     Weedle\n",
       "17                     Kakuna\n",
       "18                   Beedrill\n",
       "19      BeedrillMega Beedrill\n",
       "20                     Pidgey\n",
       "21                  Pidgeotto\n",
       "22                    Pidgeot\n",
       "23        PidgeotMega Pidgeot\n",
       "24                    Rattata\n",
       "25                   Raticate\n",
       "26                    Spearow\n",
       "27                     Fearow\n",
       "28                      Ekans\n",
       "29                      Arbok\n",
       "30                    Pikachu\n",
       "31                     Raichu\n",
       "32                  Sandshrew\n",
       "33                  Sandslash\n",
       "34                   Nidoran♀\n",
       "35                   Nidorina\n",
       "36                  Nidoqueen\n",
       "37                   Nidoran♂\n",
       "38                   Nidorino\n",
       "39                   Nidoking\n",
       "40                   Clefairy\n",
       "41                   Clefable\n",
       "42                     Vulpix\n",
       "43                  Ninetales\n",
       "44                 Jigglypuff\n",
       "45                 Wigglytuff\n",
       "46                      Zubat\n",
       "47                     Golbat\n",
       "48                     Oddish\n",
       "49                      Gloom\n",
       "Name: Name, dtype: object"
      ]
     },
     "execution_count": 20,
     "metadata": {},
     "output_type": "execute_result"
    }
   ],
   "source": [
    "# clysing the data from data set\n",
    "poke[10:50]"
   ]
  },
  {
   "cell_type": "code",
   "execution_count": 22,
   "metadata": {},
   "outputs": [
    {
     "data": {
      "text/plain": [
       "770                  Sylveon\n",
       "771                 Hawlucha\n",
       "772                  Dedenne\n",
       "773                  Carbink\n",
       "774                    Goomy\n",
       "775                  Sliggoo\n",
       "776                   Goodra\n",
       "777                   Klefki\n",
       "778                 Phantump\n",
       "779                Trevenant\n",
       "780    PumpkabooAverage Size\n",
       "781      PumpkabooSmall Size\n",
       "782      PumpkabooLarge Size\n",
       "783      PumpkabooSuper Size\n",
       "784    GourgeistAverage Size\n",
       "785      GourgeistSmall Size\n",
       "786      GourgeistLarge Size\n",
       "787      GourgeistSuper Size\n",
       "788                 Bergmite\n",
       "789                  Avalugg\n",
       "790                   Noibat\n",
       "791                  Noivern\n",
       "792                  Xerneas\n",
       "793                  Yveltal\n",
       "794         Zygarde50% Forme\n",
       "795                  Diancie\n",
       "796      DiancieMega Diancie\n",
       "797      HoopaHoopa Confined\n",
       "798       HoopaHoopa Unbound\n",
       "799                Volcanion\n",
       "Name: Name, dtype: object"
      ]
     },
     "execution_count": 22,
     "metadata": {},
     "output_type": "execute_result"
    }
   ],
   "source": [
    "# clysing the data from negative vaise in data set\n",
    "poke[-30:]"
   ]
  },
  {
   "cell_type": "code",
   "execution_count": null,
   "metadata": {},
   "outputs": [],
   "source": []
  },
  {
   "cell_type": "code",
   "execution_count": 35,
   "metadata": {},
   "outputs": [
    {
     "data": {
      "text/plain": [
       "0                     Bulbasaur\n",
       "1                       Ivysaur\n",
       "2                      Venusaur\n",
       "3         VenusaurMega Venusaur\n",
       "4                    Charmander\n",
       "5                    Charmeleon\n",
       "6                     Charizard\n",
       "7     CharizardMega Charizard X\n",
       "8     CharizardMega Charizard Y\n",
       "9                      Squirtle\n",
       "10                    Wartortle\n",
       "11                    Blastoise\n",
       "12      BlastoiseMega Blastoise\n",
       "13                     Caterpie\n",
       "14                      Metapod\n",
       "15                   Butterfree\n",
       "16                       Weedle\n",
       "17                       Kakuna\n",
       "18                     Beedrill\n",
       "19        BeedrillMega Beedrill\n",
       "20                       Pidgey\n",
       "21                    Pidgeotto\n",
       "22                      Pidgeot\n",
       "23          PidgeotMega Pidgeot\n",
       "24                      Rattata\n",
       "25                     Raticate\n",
       "26                      Spearow\n",
       "27                       Fearow\n",
       "28                        Ekans\n",
       "29                        Arbok\n",
       "30                      Pikachu\n",
       "31                       Raichu\n",
       "32                    Sandshrew\n",
       "33                    Sandslash\n",
       "34                     Nidoran♀\n",
       "35                     Nidorina\n",
       "36                    Nidoqueen\n",
       "37                     Nidoran♂\n",
       "38                     Nidorino\n",
       "39                     Nidoking\n",
       "40                     Clefairy\n",
       "41                     Clefable\n",
       "42                       Vulpix\n",
       "43                    Ninetales\n",
       "44                   Jigglypuff\n",
       "45                   Wigglytuff\n",
       "46                        Zubat\n",
       "47                       Golbat\n",
       "48                       Oddish\n",
       "49                        Gloom\n",
       "50                    Vileplume\n",
       "51                        Paras\n",
       "52                     Parasect\n",
       "53                      Venonat\n",
       "54                     Venomoth\n",
       "55                      Diglett\n",
       "56                      Dugtrio\n",
       "57                       Meowth\n",
       "58                      Persian\n",
       "59                      Psyduck\n",
       "Name: Name, dtype: object"
      ]
     },
     "execution_count": 35,
     "metadata": {},
     "output_type": "execute_result"
    }
   ],
   "source": [
    "poke[:60]"
   ]
  }
 ],
 "metadata": {
  "kernelspec": {
   "display_name": "Python 3",
   "language": "python",
   "name": "python3"
  },
  "language_info": {
   "codemirror_mode": {
    "name": "ipython",
    "version": 3
   },
   "file_extension": ".py",
   "mimetype": "text/x-python",
   "name": "python",
   "nbconvert_exporter": "python",
   "pygments_lexer": "ipython3",
   "version": "3.8.3"
  },
  "nbTranslate": {
   "displayLangs": [
    "*"
   ],
   "hotkey": "alt-t",
   "langInMainMenu": true,
   "sourceLang": "en",
   "targetLang": "fr",
   "useGoogleTranslate": true
  },
  "toc": {
   "base_numbering": 1,
   "nav_menu": {},
   "number_sections": true,
   "sideBar": true,
   "skip_h1_title": false,
   "title_cell": "Table of Contents",
   "title_sidebar": "Contents",
   "toc_cell": false,
   "toc_position": {},
   "toc_section_display": true,
   "toc_window_display": false
  },
  "varInspector": {
   "cols": {
    "lenName": 16,
    "lenType": 16,
    "lenVar": 40
   },
   "kernels_config": {
    "python": {
     "delete_cmd_postfix": "",
     "delete_cmd_prefix": "del ",
     "library": "var_list.py",
     "varRefreshCmd": "print(var_dic_list())"
    },
    "r": {
     "delete_cmd_postfix": ") ",
     "delete_cmd_prefix": "rm(",
     "library": "var_list.r",
     "varRefreshCmd": "cat(var_dic_list()) "
    }
   },
   "types_to_exclude": [
    "module",
    "function",
    "builtin_function_or_method",
    "instance",
    "_Feature"
   ],
   "window_display": false
  }
 },
 "nbformat": 4,
 "nbformat_minor": 4
}
